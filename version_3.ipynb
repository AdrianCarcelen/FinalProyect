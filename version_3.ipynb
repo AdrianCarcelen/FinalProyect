{
 "cells": [
  {
   "cell_type": "code",
   "execution_count": 17,
   "metadata": {},
   "outputs": [],
   "source": [
    "import numpy as np\n",
    "import pygame\n",
    "import time\n",
    "import csv\n",
    "import torch\n",
    "import torch.nn as nn\n",
    "import matplotlib.pyplot as plt\n",
    "import torch.utils.data as data_utils\n",
    "from torch.utils.data import Dataset, DataLoader\n",
    "import torch.optim as optim\n",
    "from sklearn.linear_model import LinearRegression\n",
    "import torchvision\n",
    "import torchvision.transforms as transforms\n",
    "import torch.nn.functional as F\n",
    "import pandas as pd"
   ]
  },
  {
   "cell_type": "code",
   "execution_count": 18,
   "metadata": {},
   "outputs": [],
   "source": [
    "def init_board():\n",
    "    return np.zeros((6, 7))"
   ]
  },
  {
   "cell_type": "code",
   "execution_count": 19,
   "metadata": {},
   "outputs": [],
   "source": [
    "def play_random(board):\n",
    "    available = np.where(board[0, :] == 0)[0]\n",
    "    return np.random.choice(available)"
   ]
  },
  {
   "cell_type": "code",
   "execution_count": 20,
   "metadata": {},
   "outputs": [],
   "source": [
    "def play(board, col, value):\n",
    "    pos = np.where(board[:, col] == 0)[0].max()\n",
    "    board[pos, col] = value\n",
    "    return board"
   ]
  },
  {
   "cell_type": "code",
   "execution_count": 21,
   "metadata": {},
   "outputs": [],
   "source": [
    "def check_win(board):\n",
    "    # Verificar filas\n",
    "    for row in range(len(board) - 1, -1, -1):\n",
    "        for col in range(len(board[row]) - 3):\n",
    "            if (\n",
    "                board[row][col]\n",
    "                == board[row][col + 1]\n",
    "                == board[row][col + 2]\n",
    "                == board[row][col + 3]\n",
    "                != 0\n",
    "            ):\n",
    "                return board[row][col]\n",
    "\n",
    "    # Verificar columnas\n",
    "    for col in range(len(board[0])):\n",
    "        for row in range(len(board) - 3):\n",
    "            if (\n",
    "                board[row][col]\n",
    "                == board[row + 1][col]\n",
    "                == board[row + 2][col]\n",
    "                == board[row + 3][col]\n",
    "                != 0\n",
    "            ):\n",
    "                return board[row][col]\n",
    "\n",
    "    # Verificar diagonales ascendentes\n",
    "    for row in range(len(board) - 4, -1, -1):\n",
    "        for col in range(len(board[row]) - 3):\n",
    "            if (\n",
    "                board[row][col]\n",
    "                == board[row + 1][col + 1]\n",
    "                == board[row + 2][col + 2]\n",
    "                == board[row + 3][col + 3]\n",
    "                != 0\n",
    "            ):\n",
    "                return board[row][col]\n",
    "\n",
    "    # Verificar diagonales descendentes\n",
    "    for row in range(len(board) - 1, 2, -1):\n",
    "        for col in range(len(board[row]) - 3):\n",
    "            if (\n",
    "                board[row][col]\n",
    "                == board[row - 1][col + 1]\n",
    "                == board[row - 2][col + 2]\n",
    "                == board[row - 3][col + 3]\n",
    "                != 0\n",
    "            ):\n",
    "                return board[row][col]\n",
    "\n",
    "    # Si no hay ganador, retornar None\n",
    "    return 0"
   ]
  },
  {
   "cell_type": "code",
   "execution_count": 22,
   "metadata": {},
   "outputs": [],
   "source": [
    "def logical_game(player_1, player_2):\n",
    "    board = init_board()\n",
    "\n",
    "    while True:\n",
    "        col_1 = play_random(board)\n",
    "        board = play(board, col_1, 1)\n",
    "\n",
    "        winner = check_win(board)\n",
    "        if winner:\n",
    "            print(f\"{player_1} ha ganado el juego.\")\n",
    "            print(board)\n",
    "            return\n",
    "\n",
    "        col_2 = play_random(board)\n",
    "        board = play(board, col_2, -1)\n",
    "\n",
    "        winner = check_win(board)\n",
    "        if winner:\n",
    "            print(f\"{player_2} ha ganado el juego.\")\n",
    "            print(board)\n",
    "            return\n",
    "\n",
    "        if np.count_nonzero(board) == board.size:\n",
    "            print(\"El juego ha terminado en empate.\")\n",
    "            print(board)\n",
    "            return"
   ]
  },
  {
   "cell_type": "code",
   "execution_count": 23,
   "metadata": {},
   "outputs": [],
   "source": [
    "def play_user(board):\n",
    "    global screen\n",
    "    selected_column = None\n",
    "    done = False\n",
    "    font = pygame.font.SysFont(None, 40)\n",
    "\n",
    "    while not done:\n",
    "        for event in pygame.event.get():\n",
    "            if event.type == pygame.QUIT:\n",
    "                done = True\n",
    "                return -1\n",
    "\n",
    "            if event.type == pygame.KEYDOWN:\n",
    "                if event.key == pygame.K_1:\n",
    "                    selected_column = 0\n",
    "                    done = True\n",
    "                elif event.key == pygame.K_2:\n",
    "                    selected_column = 1\n",
    "                    done = True\n",
    "                elif event.key == pygame.K_3:\n",
    "                    selected_column = 2\n",
    "                    done = True\n",
    "                elif event.key == pygame.K_4:\n",
    "                    selected_column = 3\n",
    "                    done = True\n",
    "                elif event.key == pygame.K_5:\n",
    "                    selected_column = 4\n",
    "                    done = True\n",
    "                elif event.key == pygame.K_6:\n",
    "                    selected_column = 5\n",
    "                    done = True\n",
    "                elif event.key == pygame.K_7:\n",
    "                    selected_column = 6\n",
    "                    done = True\n",
    "\n",
    "        if selected_column is not None:\n",
    "            available_columns = np.where(board[0, :] == 0)[0]\n",
    "            if selected_column in available_columns:\n",
    "                return selected_column\n",
    "            else:\n",
    "                selected_column = None\n",
    "\n",
    "        transparent_surface = pygame.Surface(\n",
    "            (screen.get_width(), screen.get_height()), pygame.SRCALPHA\n",
    "        )  # Crea una superficie transparente\n",
    "        text = font.render(\"Chose a column (1 to 7):\", True, (255, 255, 255))\n",
    "        transparent_surface.blit(\n",
    "            text, (10, 10)\n",
    "        )  # Dibuja el texto en la superficie transparente\n",
    "        screen.blit(\n",
    "            transparent_surface, (0, 0)\n",
    "        )  # Blit la superficie transparente en la pantalla\n",
    "        pygame.display.flip()"
   ]
  },
  {
   "cell_type": "code",
   "execution_count": 31,
   "metadata": {},
   "outputs": [],
   "source": [
    "def play_model1(board, net):\n",
    "    flattened_board = board.flatten()\n",
    "    flatten_board_tensor = torch.tensor(flattened_board, dtype=torch.float32)[None,:]\n",
    "    output = net(flatten_board_tensor)\n",
    "    output_np = np.array(output.detach())\n",
    "    probas = ((board[0, :] == 0)*output_np)[0]\n",
    "    probas = probas/probas.sum()\n",
    "\n",
    "    return np.random.choice(np.arange(7), p=probas)\n",
    "    "
   ]
  },
  {
   "cell_type": "code",
   "execution_count": 24,
   "metadata": {},
   "outputs": [],
   "source": [
    "def draw_board(board, screen, clock):\n",
    "    SQUARE_SIZE = 480 / 6\n",
    "    pygame.draw.rect(screen, (0, 0, 255), (0, 0, SQUARE_SIZE * 7, SQUARE_SIZE * 6))\n",
    "\n",
    "    for i in range(board.shape[0]):\n",
    "        for j in range(board.shape[1]):\n",
    "            if board[i, j] == 0:\n",
    "                pygame.draw.circle(\n",
    "                    screen,\n",
    "                    (0, 0, 0),\n",
    "                    (\n",
    "                        int(j * SQUARE_SIZE + SQUARE_SIZE / 2),\n",
    "                        int(i * SQUARE_SIZE + SQUARE_SIZE / 2),\n",
    "                    ),\n",
    "                    int(SQUARE_SIZE / 2 - 5),\n",
    "                )\n",
    "                # pygame.draw.circle(screen, (0, 255, 0), (j * SQUARE_SIZE, i * SQUARE_SIZE, SQUARE_SIZE, SQUARE_SIZE))\n",
    "            if board[i, j] == 1:\n",
    "                pygame.draw.circle(\n",
    "                    screen,\n",
    "                    (255, 255, 0),\n",
    "                    (\n",
    "                        int(j * SQUARE_SIZE + SQUARE_SIZE / 2),\n",
    "                        int(i * SQUARE_SIZE + SQUARE_SIZE / 2),\n",
    "                    ),\n",
    "                    int(SQUARE_SIZE / 2 - 5),\n",
    "                )\n",
    "                # pygame.draw.circle(screen, (0, 255, 0), (j * SQUARE_SIZE, i * SQUARE_SIZE, SQUARE_SIZE, SQUARE_SIZE))\n",
    "            if board[i, j] == -1:\n",
    "                pygame.draw.circle(\n",
    "                    screen,\n",
    "                    (255, 0, 0),\n",
    "                    (\n",
    "                        int(j * SQUARE_SIZE + SQUARE_SIZE / 2),\n",
    "                        int(i * SQUARE_SIZE + SQUARE_SIZE / 2),\n",
    "                    ),\n",
    "                    int(SQUARE_SIZE / 2 - 5),\n",
    "                )\n",
    "                # pygame.draw.circle(screen, (255, 0, 0), (j * SQUARE_SIZE, i * SQUARE_SIZE, SQUARE_SIZE, SQUARE_SIZE))\n",
    "    pygame.display.flip()\n",
    "    clock.tick(60)"
   ]
  },
  {
   "cell_type": "code",
   "execution_count": 25,
   "metadata": {},
   "outputs": [],
   "source": [
    "def show_menu(screen):\n",
    "    menu_text = \"Select mode\"\n",
    "    pvp_text = \"Player vs Player\"\n",
    "    pvc_text = \"Player vs CPU\"\n",
    "    cvc_text = \"CPU vs CPU\"\n",
    "\n",
    "    menu_font = pygame.font.Font(\"arial\", 32)\n",
    "    pvp_font = pygame.font.Font(\"arial\", 24)\n",
    "    pvc_font = pygame.font.Font(\"arial\", 24)\n",
    "    cvc_font = pygame.font.Font(\"arial\", 24)\n",
    "\n",
    "    while True:\n",
    "        screen.fill((0, 0, 0))\n",
    "        menu_surface = menu_font.render(menu_text, True, (255, 255, 0))\n",
    "        pvp_surface = pvp_font.render(pvp_text, True, (255, 255, 0))\n",
    "        pvc_surface = pvc_font.render(pvc_text, True, (255, 255, 0))\n",
    "        cvc_surface = cvc_font.render(cvc_text, True, (255, 255, 0))\n",
    "\n",
    "        menu_rect = menu_surface.get_rect()\n",
    "        pvp_rect = pvp_surface.get_rect()\n",
    "        pvc_rect = pvc_surface.get_rect()\n",
    "        cvc_rect = cvc_surface.get_rect()\n",
    "\n",
    "        menu_rect.midtop = (560 / 2, 50)\n",
    "        pvp_rect.midtop = (560 / 2, 150)\n",
    "        pvc_rect.midtop = (560 / 2, 200)\n",
    "        cvc_rect.midtop = (560 / 2, 250)\n",
    "\n",
    "        screen.blit(menu_surface, menu_rect)\n",
    "        screen.blit(pvp_surface, pvp_rect)\n",
    "        screen.blit(pvc_surface, pvc_rect)\n",
    "        screen.blit(cvc_surface, cvc_rect)\n",
    "\n",
    "        pygame.display.update()\n",
    "\n",
    "        for event in pygame.event.get():\n",
    "            if event.type == pygame.QUIT:\n",
    "                pygame.quit()\n",
    "                quit()\n",
    "            elif event.type == pygame.MOUSEBUTTONDOWN:\n",
    "                if pvp_rect.collidepoint(event.pos):\n",
    "                    start_game(1)\n",
    "                elif pvc_rect.collidepoint(event.pos):\n",
    "                    start_game(2)\n",
    "                elif cvc_rect.collidepoint(event.pos):\n",
    "                    start_game(3)"
   ]
  },
  {
   "cell_type": "code",
   "execution_count": 26,
   "metadata": {},
   "outputs": [],
   "source": [
    "def to_string(board, col):\n",
    "    flattened_board = board.flatten()\n",
    "    array_strings = [str(element) for element in flattened_board]\n",
    "    array_string = \",\".join(array_strings)\n",
    "    array_string_with_label = array_string + \",\" + str(col)\n",
    "    return array_string_with_label"
   ]
  },
  {
   "cell_type": "code",
   "execution_count": 27,
   "metadata": {},
   "outputs": [],
   "source": [
    "win_moves = []\n",
    "loss_moves = []\n",
    "tie_moves = []"
   ]
  },
  {
   "cell_type": "code",
   "execution_count": 28,
   "metadata": {},
   "outputs": [],
   "source": [
    "def save_moves_csv(moves, filename):\n",
    "    f = open(filename, \"a\")\n",
    "    for line in moves:\n",
    "        f.write(line)\n",
    "        f.write(\"\\n\")\n",
    "    f.close()"
   ]
  },
  {
   "cell_type": "code",
   "execution_count": 44,
   "metadata": {},
   "outputs": [],
   "source": [
    "def logical_game_print(player_1, player_2):\n",
    "    global win_moves, loss_moves, tie_moves, net\n",
    "    board = init_board()\n",
    "    moves_player1 = []\n",
    "    moves_player2 = []\n",
    "\n",
    "    while True:\n",
    "        col_1 = player_1(board, net)\n",
    "        s = to_string(board, col_1)\n",
    "        moves_player1.append(s)\n",
    "        board = play(board, col_1, 1)\n",
    "\n",
    "        winner = check_win(board)\n",
    "        if winner:\n",
    "            # print(f\"player_1 ha ganado el juego.\")\n",
    "            # print(board)\n",
    "            save_moves_csv(moves_player1, \"win.csv\")\n",
    "            save_moves_csv(moves_player2, \"loss.csv\")\n",
    "            return 1\n",
    "\n",
    "        col_2 = player_2(board)\n",
    "        s = to_string(board, col_2)\n",
    "        moves_player2.append(s)\n",
    "        board = play(board, col_2, -1)\n",
    "        # print(board)\n",
    "        # print()\n",
    "\n",
    "        winner = check_win(board)\n",
    "        if winner:\n",
    "            # print(f\"player_2 ha ganado el juego.\")\n",
    "            # print(board)\n",
    "            save_moves_csv(moves_player2, \"win.csv\")\n",
    "            save_moves_csv(moves_player1, \"loss.csv\")\n",
    "            return -1\n",
    "\n",
    "        if np.count_nonzero(board) == board.size:\n",
    "            # print(\"El juego ha terminado en empate.\")\n",
    "            # print(board)\n",
    "            save_moves_csv(moves_player1 + moves_player2, \"tie.csv\")\n",
    "            return 0"
   ]
  },
  {
   "cell_type": "code",
   "execution_count": 45,
   "metadata": {},
   "outputs": [
    {
     "name": "stdout",
     "output_type": "stream",
     "text": [
      "Porcentaje de victorias de player_1: 66.25 %\n",
      "Porcentaje de victorias de player_2: 33.6 %\n"
     ]
    }
   ],
   "source": [
    "wins_player1 = 0\n",
    "wins_player2 = 0\n",
    "\n",
    "for games in range(2000):\n",
    "    result = logical_game_print(play_model1, play_random)\n",
    "    if result == 1:\n",
    "        wins_player1 += 1\n",
    "    elif result == -1:\n",
    "        wins_player2 += 1\n",
    "\n",
    "print(\"Porcentaje de victorias de player_1:\", (wins_player1 / 2000) * 100, \"%\")\n",
    "print(\"Porcentaje de victorias de player_2:\", (wins_player2 / 2000) * 100, \"%\")"
   ]
  },
  {
   "cell_type": "code",
   "execution_count": 33,
   "metadata": {},
   "outputs": [],
   "source": [
    "def logical_game_window(player_1, player_2):\n",
    "    global win_moves, loss_moves, tie_moves, net, screen\n",
    "    board = init_board()\n",
    "    pygame.init()\n",
    "    screen = pygame.display.set_mode((560, 480))\n",
    "    clock = pygame.time.Clock()\n",
    "    draw_board(board, screen, clock)\n",
    "\n",
    "    while True:\n",
    "        col_1 = player_1(board)\n",
    "        board = play(board, col_1, 1)\n",
    "        draw_board(board, screen, clock)\n",
    "        time.sleep(0.5)\n",
    "\n",
    "        winner = check_win(board)\n",
    "        if winner:\n",
    "            draw_board(board, screen, clock)\n",
    "            time.sleep(5)\n",
    "            pygame.quit()\n",
    "            print(f\"player_1 ha ganado el juego.\")\n",
    "            print(board)\n",
    "            return\n",
    "\n",
    "        col_2 = player_2(board, net)\n",
    "        board = play(board, col_2, -1)\n",
    "        draw_board(board, screen, clock)\n",
    "        time.sleep(0.5)\n",
    "\n",
    "        winner = check_win(board)\n",
    "        if winner:\n",
    "            draw_board(board, screen, clock)\n",
    "\n",
    "            time.sleep(5)\n",
    "            pygame.quit()\n",
    "            print(f\"player_2 ha ganado el juego.\")\n",
    "            print(board)\n",
    "            return\n",
    "\n",
    "        if np.count_nonzero(board) == board.size:\n",
    "            print(\"El juego ha terminado en empate.\")\n",
    "            print(board)\n",
    "            return\n",
    "\n",
    "\n",
    "# logical_game_window(play_user, play_model1)"
   ]
  },
  {
   "cell_type": "code",
   "execution_count": 34,
   "metadata": {},
   "outputs": [
    {
     "name": "stdout",
     "output_type": "stream",
     "text": [
      "player_1 ha ganado el juego.\n",
      "[[ 0.  0.  0. -1.  0.  0.  0.]\n",
      " [ 0.  0.  0. -1.  0.  0.  0.]\n",
      " [ 0.  0.  0.  1.  1.  0.  0.]\n",
      " [ 0.  0. -1.  1.  1.  0.  0.]\n",
      " [ 1.  0.  1. -1.  1. -1.  0.]\n",
      " [ 1.  1. -1. -1. -1.  1. -1.]]\n"
     ]
    }
   ],
   "source": [
    "logical_game_window(play_user, play_model1)"
   ]
  },
  {
   "cell_type": "code",
   "execution_count": 37,
   "metadata": {},
   "outputs": [],
   "source": [
    "class GameData(Dataset):\n",
    "    def __init__(self) -> None:\n",
    "        super().__init__()\n",
    "        self.win_df = pd.read_csv(\"win.csv\", header=None)\n",
    "        self.loss_df = pd.read_csv(\"loss.csv\", header=None)\n",
    "        \n",
    "    def __getitem__(self, i):\n",
    "        if i < len(self.win_df):\n",
    "            d = self.win_df.iloc[i]\n",
    "            board = torch.tensor(d[:42], dtype=torch.float32)\n",
    "            col = int(d[6*7])\n",
    "            x = torch.zeros(7)\n",
    "            x[col] = 1\n",
    "        else:\n",
    "            d = self.loss_df.iloc[i-len(self.win_df)]\n",
    "            board = torch.tensor(d[:42], dtype=torch.float32)\n",
    "            col = int(d[6*7])\n",
    "            x = torch.ones(7) / 6\n",
    "            x[col] = 0\n",
    "        return board, x\n",
    "    \n",
    "    def __len__(self):\n",
    "        return len(self.win_df) + len(self.loss_df)"
   ]
  },
  {
   "cell_type": "code",
   "execution_count": 38,
   "metadata": {},
   "outputs": [],
   "source": [
    "data_set_game = GameData()\n",
    "dataset_loader = torch.utils.data.DataLoader(data_set_game, batch_size = 64, shuffle = True)"
   ]
  },
  {
   "cell_type": "code",
   "execution_count": null,
   "metadata": {},
   "outputs": [
    {
     "data": {
      "text/plain": [
       "((tensor([0., 0., 0., 0., 0., 0., 0., 0., 0., 0., 0., 0., 0., 0., 0., 0., 0., 0., 0., 0., 0., 0., 0., 0.,\n",
       "          0., 0., 0., 0., 0., 0., 0., 0., 0., 0., 0., 0., 0., 0., 0., 0., 0., 0.]),\n",
       "  tensor([0., 0., 0., 0., 1., 0., 0.])),\n",
       " (tensor([ 0.,  0.,  0.,  0.,  0.,  0.,  0.,  0.,  0.,  0.,  0.,  1.,  0.,  0.,\n",
       "           0.,  0.,  0., -1., -1.,  0.,  0., -1.,  0.,  1., -1.,  1.,  0.,  0.,\n",
       "           1., -1.,  1.,  1., -1.,  0., -1.,  1., -1.,  1.,  1.,  1., -1., -1.]),\n",
       "  tensor([0., 0., 1., 0., 0., 0., 0.])),\n",
       " (tensor([0., 0., 0., 0., 0., 0., 0., 0., 0., 0., 0., 0., 0., 0., 0., 0., 0., 0.,\n",
       "          0., 0., 0., 0., 0., 0., 0., 0., 0., 0., 0., 0., 0., 0., 0., 0., 0., 0.,\n",
       "          0., 1., 0., 0., 0., 0.]),\n",
       "  tensor([0., 0., 0., 0., 0., 0., 1.])))"
      ]
     },
     "execution_count": 80,
     "metadata": {},
     "output_type": "execute_result"
    }
   ],
   "source": [
    "data_set_game[0], data_set_game[10], data_set_game[2500], "
   ]
  },
  {
   "cell_type": "code",
   "execution_count": 40,
   "metadata": {},
   "outputs": [],
   "source": [
    "class Model(nn.Module):\n",
    "    def __init__(self, hidden_size=200):\n",
    "        super().__init__()\n",
    "        self.layer1 = nn.Linear(42, hidden_size)\n",
    "        self.layer2 = nn.Linear(hidden_size, 7)\n",
    "        self.relu = nn.ReLU()\n",
    "        self.softmax = nn.Softmax(dim=1)\n",
    "\n",
    "    def forward(self, x):\n",
    "        x = self.relu(self.layer1(x))\n",
    "        x = self.softmax(self.layer2(x))\n",
    "        return x\n",
    "\n",
    "\n",
    "net = Model()"
   ]
  },
  {
   "cell_type": "code",
   "execution_count": 41,
   "metadata": {},
   "outputs": [
    {
     "data": {
      "text/plain": [
       "<All keys matched successfully>"
      ]
     },
     "execution_count": 41,
     "metadata": {},
     "output_type": "execute_result"
    }
   ],
   "source": [
    "net.load_state_dict(torch.load(\"model_weights.pth\"))"
   ]
  },
  {
   "cell_type": "code",
   "execution_count": 42,
   "metadata": {},
   "outputs": [],
   "source": [
    "opt = optim.Adam(net.parameters(), 0.00008)\n",
    "loss_fn = nn.MSELoss()\n",
    "losses = []"
   ]
  },
  {
   "cell_type": "code",
   "execution_count": 43,
   "metadata": {},
   "outputs": [
    {
     "name": "stdout",
     "output_type": "stream",
     "text": [
      "0 85.53784490004182\n",
      "1 85.06138551607728\n",
      "2 84.73852198570967\n",
      "3 84.4683910086751\n",
      "4 84.24605815857649\n",
      "5 84.06095832586288\n",
      "6 83.8975693769753\n",
      "7 83.7496443130076\n",
      "8 83.61859914287925\n",
      "9 83.49468545615673\n",
      "10 83.39310735091567\n",
      "11 83.2999449595809\n",
      "12 83.21208469569683\n",
      "13 83.13094699382782\n",
      "14 83.04803155362606\n",
      "15 82.98168800026178\n",
      "16 82.91658544540405\n",
      "17 82.85513649508357\n",
      "18 82.79415206611156\n",
      "19 82.73905911669135\n",
      "20 82.69053252786398\n",
      "21 82.63842829316854\n",
      "22 82.59063861146569\n",
      "23 82.5552974268794\n",
      "24 82.50514376536012\n",
      "25 82.46109295636415\n",
      "26 82.42522760853171\n",
      "27 82.38868676871061\n",
      "28 82.35137344151735\n",
      "29 82.31611478328705\n",
      "30 82.27648048102856\n",
      "31 82.25715342909098\n",
      "32 82.21735046431422\n",
      "33 82.1892998740077\n",
      "34 82.16582356393337\n",
      "35 82.13464307785034\n",
      "36 82.10988492146134\n",
      "37 82.08665993437171\n",
      "38 82.0591945424676\n",
      "39 82.03521839901805\n",
      "40 82.01010216772556\n",
      "41 81.9859058894217\n",
      "42 81.9665429033339\n",
      "43 81.94507336989045\n",
      "44 81.92763087153435\n",
      "45 81.90343579649925\n",
      "46 81.8825181350112\n",
      "47 81.86524382978678\n",
      "48 81.85040232911706\n",
      "49 81.83213548734784\n"
     ]
    },
    {
     "data": {
      "image/png": "[encoded data removed]",
      "text/plain": [
       "<Figure size 640x480 with 1 Axes>"
      ]
     },
     "metadata": {},
     "output_type": "display_data"
    }
   ],
   "source": [
    "for epoch in range(50):\n",
    "    epoch_loss = 0\n",
    "    for boards, outputs in dataset_loader:\n",
    "        predictions = net(boards)\n",
    "        loss = loss_fn(outputs, predictions)\n",
    "        loss.backward()\n",
    "        losses.append(loss.item())\n",
    "        epoch_loss += loss.item()\n",
    "        opt.step()\n",
    "        opt.zero_grad()\n",
    "    print(epoch, epoch_loss)\n",
    "    \n",
    "torch.save(net.state_dict(), \"model_weights.pth\")\n",
    "plt.plot(losses)\n",
    "plt.show()"
   ]
  },
  {
   "cell_type": "code",
   "execution_count": null,
   "metadata": {},
   "outputs": [],
   "source": [
    "torch.save(net.state_dict(), \"model_weights.pth\")"
   ]
  },
  {
   "cell_type": "code",
   "execution_count": null,
   "metadata": {},
   "outputs": [
    {
     "ename": "NameError",
     "evalue": "name 'board' is not defined",
     "output_type": "error",
     "traceback": [
      "\u001b[1;31m---------------------------------------------------------------------------\u001b[0m",
      "\u001b[1;31mNameError\u001b[0m                                 Traceback (most recent call last)",
      "Cell \u001b[1;32mIn[67], line 1\u001b[0m\n\u001b[1;32m----> 1\u001b[0m flattened_board \u001b[39m=\u001b[39m board\u001b[39m.\u001b[39mflatten()\n\u001b[0;32m      2\u001b[0m flatten_board_tensor \u001b[39m=\u001b[39m torch\u001b[39m.\u001b[39mtensor(flattened_board, dtype\u001b[39m=\u001b[39mtorch\u001b[39m.\u001b[39mfloat32)[\u001b[39mNone\u001b[39;00m,:]\n\u001b[0;32m      3\u001b[0m output \u001b[39m=\u001b[39m net(flatten_board_tensor)\n",
      "\u001b[1;31mNameError\u001b[0m: name 'board' is not defined"
     ]
    }
   ],
   "source": [
    "flattened_board = board.flatten()\n",
    "flatten_board_tensor = torch.tensor(flattened_board, dtype=torch.float32)[None,:]\n",
    "output = net(flatten_board_tensor)\n",
    "output_np = np.array(output.detach())\n",
    "probas = ((board[0, :] == 0)*output_np)[0]\n",
    "probas = probas/probas.sum()\n",
    "\n",
    "np.random.choice(np.arange(7), p=probas)"
   ]
  },
  {
   "cell_type": "code",
   "execution_count": null,
   "metadata": {},
   "outputs": [],
   "source": [
    "logical_game_window(play_user, play_model1)"
   ]
  }
 ],
 "metadata": {
  "kernelspec": {
   "display_name": "Python 3",
   "language": "python",
   "name": "python3"
  },
  "language_info": {
   "codemirror_mode": {
    "name": "ipython",
    "version": 3
   },
   "file_extension": ".py",
   "mimetype": "text/x-python",
   "name": "python",
   "nbconvert_exporter": "python",
   "pygments_lexer": "ipython3",
   "version": "3.11.5"
  },
  "orig_nbformat": 4
 },
 "nbformat": 4,
 "nbformat_minor": 2
}
